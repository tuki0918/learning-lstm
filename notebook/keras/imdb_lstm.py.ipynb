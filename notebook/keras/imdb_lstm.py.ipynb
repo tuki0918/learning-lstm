{
 "cells": [
  {
   "cell_type": "code",
   "execution_count": 1,
   "metadata": {},
   "outputs": [
    {
     "name": "stderr",
     "output_type": "stream",
     "text": [
      "Using TensorFlow backend.\n"
     ]
    },
    {
     "name": "stdout",
     "output_type": "stream",
     "text": [
      "Loading data...\n",
      "25000 train sequences\n",
      "25000 test sequences\n",
      "Pad sequences (samples x time)\n",
      "x_train shape: (25000, 80)\n",
      "x_test shape: (25000, 80)\n",
      "Build model...\n",
      "Train...\n",
      "Train on 25000 samples, validate on 25000 samples\n",
      "Epoch 1/15\n",
      "25000/25000 [==============================] - 144s 6ms/step - loss: 0.4572 - acc: 0.7834 - val_loss: 0.3821 - val_acc: 0.8327\n",
      "Epoch 2/15\n",
      "25000/25000 [==============================] - 139s 6ms/step - loss: 0.2979 - acc: 0.8778 - val_loss: 0.3756 - val_acc: 0.8334\n",
      "Epoch 3/15\n",
      "25000/25000 [==============================] - 136s 5ms/step - loss: 0.2149 - acc: 0.9152 - val_loss: 0.4161 - val_acc: 0.8250\n",
      "Epoch 4/15\n",
      "25000/25000 [==============================] - 129s 5ms/step - loss: 0.1544 - acc: 0.9419 - val_loss: 0.4468 - val_acc: 0.8292\n",
      "Epoch 5/15\n",
      "25000/25000 [==============================] - 128s 5ms/step - loss: 0.1095 - acc: 0.9598 - val_loss: 0.5845 - val_acc: 0.8289\n",
      "Epoch 6/15\n",
      "25000/25000 [==============================] - 149s 6ms/step - loss: 0.0750 - acc: 0.9740 - val_loss: 0.7145 - val_acc: 0.8234\n",
      "Epoch 7/15\n",
      "25000/25000 [==============================] - 129s 5ms/step - loss: 0.0556 - acc: 0.9816 - val_loss: 0.6659 - val_acc: 0.8170\n",
      "Epoch 8/15\n",
      "25000/25000 [==============================] - 129s 5ms/step - loss: 0.0443 - acc: 0.9843 - val_loss: 0.7544 - val_acc: 0.8200\n",
      "Epoch 9/15\n",
      "25000/25000 [==============================] - 128s 5ms/step - loss: 0.0278 - acc: 0.9910 - val_loss: 0.9277 - val_acc: 0.8149\n",
      "Epoch 10/15\n",
      "25000/25000 [==============================] - 128s 5ms/step - loss: 0.0241 - acc: 0.9920 - val_loss: 0.8749 - val_acc: 0.8186\n",
      "Epoch 11/15\n",
      "25000/25000 [==============================] - 143s 6ms/step - loss: 0.0209 - acc: 0.9928 - val_loss: 0.9580 - val_acc: 0.8171\n",
      "Epoch 12/15\n",
      "25000/25000 [==============================] - 144s 6ms/step - loss: 0.0162 - acc: 0.9950 - val_loss: 1.0678 - val_acc: 0.8164\n",
      "Epoch 13/15\n",
      "25000/25000 [==============================] - 176s 7ms/step - loss: 0.0131 - acc: 0.9959 - val_loss: 1.1280 - val_acc: 0.8130\n",
      "Epoch 14/15\n",
      "25000/25000 [==============================] - 168s 7ms/step - loss: 0.0083 - acc: 0.9974 - val_loss: 1.0283 - val_acc: 0.8141\n",
      "Epoch 15/15\n",
      "25000/25000 [==============================] - 156s 6ms/step - loss: 0.0093 - acc: 0.9968 - val_loss: 1.1434 - val_acc: 0.8102\n",
      "25000/25000 [==============================] - 23s 925us/step\n",
      "Test score: 1.143362609884739\n",
      "Test accuracy: 0.8102\n"
     ]
    }
   ],
   "source": [
    "'''\n",
    "#Trains an LSTM model on the IMDB sentiment classification task.\n",
    "The dataset is actually too small for LSTM to be of any advantage\n",
    "compared to simpler, much faster methods such as TF-IDF + LogReg.\n",
    "**Notes**\n",
    "- RNNs are tricky. Choice of batch size is important,\n",
    "choice of loss and optimizer is critical, etc.\n",
    "Some configurations won't converge.\n",
    "- LSTM loss decrease patterns during training can be quite different\n",
    "from what you see with CNNs/MLPs/etc.\n",
    "'''\n",
    "from __future__ import print_function\n",
    "\n",
    "from keras.preprocessing import sequence\n",
    "from keras.models import Sequential\n",
    "from keras.layers import Dense, Embedding\n",
    "from keras.layers import LSTM\n",
    "from keras.datasets import imdb\n",
    "\n",
    "max_features = 20000\n",
    "# cut texts after this number of words (among top max_features most common words)\n",
    "maxlen = 80\n",
    "batch_size = 32\n",
    "\n",
    "print('Loading data...')\n",
    "(x_train, y_train), (x_test, y_test) = imdb.load_data(num_words=max_features)\n",
    "print(len(x_train), 'train sequences')\n",
    "print(len(x_test), 'test sequences')\n",
    "\n",
    "print('Pad sequences (samples x time)')\n",
    "x_train = sequence.pad_sequences(x_train, maxlen=maxlen)\n",
    "x_test = sequence.pad_sequences(x_test, maxlen=maxlen)\n",
    "print('x_train shape:', x_train.shape)\n",
    "print('x_test shape:', x_test.shape)\n",
    "\n",
    "print('Build model...')\n",
    "model = Sequential()\n",
    "model.add(Embedding(max_features, 128))\n",
    "model.add(LSTM(128, dropout=0.2, recurrent_dropout=0.2))\n",
    "model.add(Dense(1, activation='sigmoid'))\n",
    "\n",
    "# try using different optimizers and different optimizer configs\n",
    "model.compile(loss='binary_crossentropy',\n",
    "              optimizer='adam',\n",
    "              metrics=['accuracy'])\n",
    "\n",
    "print('Train...')\n",
    "model.fit(x_train, y_train,\n",
    "          batch_size=batch_size,\n",
    "          epochs=15,\n",
    "          validation_data=(x_test, y_test))\n",
    "score, acc = model.evaluate(x_test, y_test,\n",
    "                            batch_size=batch_size)\n",
    "print('Test score:', score)\n",
    "print('Test accuracy:', acc)"
   ]
  },
  {
   "cell_type": "code",
   "execution_count": 2,
   "metadata": {},
   "outputs": [],
   "source": [
    "# https://github.com/keras-team/keras/blob/master/examples/imdb_lstm.py"
   ]
  },
  {
   "cell_type": "code",
   "execution_count": null,
   "metadata": {},
   "outputs": [],
   "source": []
  }
 ],
 "metadata": {
  "kernelspec": {
   "display_name": "Python 3",
   "language": "python",
   "name": "python3"
  },
  "language_info": {
   "codemirror_mode": {
    "name": "ipython",
    "version": 3
   },
   "file_extension": ".py",
   "mimetype": "text/x-python",
   "name": "python",
   "nbconvert_exporter": "python",
   "pygments_lexer": "ipython3",
   "version": "3.6.7"
  }
 },
 "nbformat": 4,
 "nbformat_minor": 2
}
